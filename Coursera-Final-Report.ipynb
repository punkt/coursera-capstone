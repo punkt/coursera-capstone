{
 "cells": [
  {
   "cell_type": "markdown",
   "metadata": {},
   "source": [
    "## Business Statement"
   ]
  },
  {
   "cell_type": "markdown",
   "metadata": {},
   "source": [
    "A new fitness chain would like to expand in Denmark. Opening the first Gym is going to give the stakeholder an idea on how profitable is their business model and how it will be received might dictate future plans for expansion on the Danish Market.\n",
    "\n",
    "Data Analysis should be used to find the best location considering a few criteria:\n",
    "1. Proximity to high traffic areas\n",
    "2. A certain distance to existing fitness centers.\n",
    "3. A location with lower density of Gym facilities.\n",
    "\n"
   ]
  },
  {
   "cell_type": "markdown",
   "metadata": {},
   "source": [
    "## Data Source"
   ]
  },
  {
   "cell_type": "markdown",
   "metadata": {},
   "source": [
    "The main Data Source will be Foursquare API for identifying existing gym and mapping them over the Central Copenhagen zip codes.\n",
    "\n",
    "Data from Denmark Statistics Institute will be used to identify higher density areas and popular venues.\n",
    "\n",
    "People are more likely to choose a gym close to a Shopping Center then in a remote area so this should be factored into account.\n",
    "\n",
    "By knowing existing Gym and their area of coverage, by applying unsupervised learning techniques it will be determined the optimum location for opening a new fitness center."
   ]
  },
  {
   "cell_type": "markdown",
   "metadata": {},
   "source": []
  },
  {
   "cell_type": "markdown",
   "metadata": {},
   "source": []
  }
 ],
 "metadata": {
  "kernelspec": {
   "display_name": "Python",
   "language": "python",
   "name": "conda-env-python-py"
  },
  "language_info": {
   "codemirror_mode": {
    "name": "ipython",
    "version": 3
   },
   "file_extension": ".py",
   "mimetype": "text/x-python",
   "name": "python",
   "nbconvert_exporter": "python",
   "pygments_lexer": "ipython3",
   "version": "3.6.10"
  }
 },
 "nbformat": 4,
 "nbformat_minor": 4
}
