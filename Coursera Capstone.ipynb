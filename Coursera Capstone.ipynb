{
    "cells": [
        {
            "cell_type": "markdown",
            "metadata": {},
            "source": "## Table of Contents\n\n<div>\n        <a href=\"#item1\">1. Business Statement</a>\n        <br>\n        <a href=\"##item2\">2. Data Source</a>\n        <br>\n        <a href=\"#item3\">3. Analyze Data</a>\n        <br>\n        <a href=\"#item4\">4. Visualise Data</a>\n        <br>\n        <a href=\"#item5\">5. Examine Clusters</a>    \n        <br>\n        <a href=\"#item5\">6. Conclusions</a>    \n        <br>\n    </ol>\n</div>"
        },
        {
            "cell_type": "markdown",
            "metadata": {},
            "source": "## 1. Business Statement\n\nA new fitness chain would like to expand in Denmark. Opening the first Gym is going to give the stakeholder an idea on how profitable is their business model and how it will be received might dictate future plans for expansion on the Danish Market.\n\nData Analysis should be used to find the best location considering a few criteria:\n\nProximity to high traffic areas\nA certain distance to existing fitness centers.\nA location with lower density of Gym facilities.\n\n\n"
        },
        {
            "cell_type": "markdown",
            "metadata": {},
            "source": "## 2. Data Source\n\nThe main Data Source will be Foursquare API for identifying existing gym and mapping them over the Central Copenhagen zip codes.\nData from Denmark Statistics Institute will be used to identify higher density areas and popular venues.\nPeople are more likely to choose a gym close to a Shopping Center then in a remote area so this should be factored into account.\n\nBy knowing existing Gym and their area of coverage, by applying unsupervised learning techniques it will be determined the optimum location for opening a new fitness center."
        },
        {
            "cell_type": "markdown",
            "metadata": {},
            "source": "Using Foursquare let's fetch "
        },
        {
            "cell_type": "code",
            "execution_count": 1,
            "metadata": {},
            "outputs": [
                {
                    "name": "stdout",
                    "output_type": "stream",
                    "text": "Libraries imported.\n"
                }
            ],
            "source": "### A. Let's import the Fitness Gyms that are registered for Copenhagen from Foursquare.\n\n\nimport requests # library to handle requests\nimport pandas as pd # library for data analsysis\nimport numpy as np # library to handle data in a vectorized manner\nimport random # library for random number generation\n\n# libraries for displaying images\nfrom IPython.display import Image \nfrom IPython.core.display import HTML \n    \n# tranforming json file into a pandas dataframe library\nfrom pandas.io.json import json_normalize\nfrom pandas.io.json import json_normalize\n\nprint('Libraries imported.')\n"
        },
        {
            "cell_type": "code",
            "execution_count": 2,
            "metadata": {},
            "outputs": [
                {
                    "name": "stdout",
                    "output_type": "stream",
                    "text": "Your credentails:\nCLIENT_ID: FZF2SWDMAVWXMFYAXUYYDKCLZYHQX0WESCXZFEU5ZNQ2DLLL\nCLIENT_SECRET:WSRM2GTQKNXLREEGDXDR4ZWE4LNVILAKOPPVRPVY5H2OL3AO\n"
                },
                {
                    "ename": "NameError",
                    "evalue": "name 'Nominatim' is not defined",
                    "output_type": "error",
                    "traceback": [
                        "\u001b[0;31m---------------------------------------------------------------------------\u001b[0m",
                        "\u001b[0;31mNameError\u001b[0m                                 Traceback (most recent call last)",
                        "\u001b[0;32m<ipython-input-2-8c636bcf3ecd>\u001b[0m in \u001b[0;36m<module>\u001b[0;34m\u001b[0m\n\u001b[1;32m     15\u001b[0m \u001b[0maddress\u001b[0m \u001b[0;34m=\u001b[0m \u001b[0;34m'Copenhagen, Denmark'\u001b[0m\u001b[0;34m\u001b[0m\u001b[0;34m\u001b[0m\u001b[0m\n\u001b[1;32m     16\u001b[0m \u001b[0;34m\u001b[0m\u001b[0m\n\u001b[0;32m---> 17\u001b[0;31m \u001b[0mgeolocator\u001b[0m \u001b[0;34m=\u001b[0m \u001b[0mNominatim\u001b[0m\u001b[0;34m(\u001b[0m\u001b[0muser_agent\u001b[0m\u001b[0;34m=\u001b[0m\u001b[0;34m\"foursquare_agent\"\u001b[0m\u001b[0;34m)\u001b[0m\u001b[0;34m\u001b[0m\u001b[0;34m\u001b[0m\u001b[0m\n\u001b[0m\u001b[1;32m     18\u001b[0m \u001b[0mlocation\u001b[0m \u001b[0;34m=\u001b[0m \u001b[0mgeolocator\u001b[0m\u001b[0;34m.\u001b[0m\u001b[0mgeocode\u001b[0m\u001b[0;34m(\u001b[0m\u001b[0maddress\u001b[0m\u001b[0;34m)\u001b[0m\u001b[0;34m\u001b[0m\u001b[0;34m\u001b[0m\u001b[0m\n\u001b[1;32m     19\u001b[0m \u001b[0mlatitude\u001b[0m \u001b[0;34m=\u001b[0m \u001b[0mlocation\u001b[0m\u001b[0;34m.\u001b[0m\u001b[0mlatitude\u001b[0m\u001b[0;34m\u001b[0m\u001b[0;34m\u001b[0m\u001b[0m\n",
                        "\u001b[0;31mNameError\u001b[0m: name 'Nominatim' is not defined"
                    ]
                }
            ],
            "source": "## Adding Foursquare Credentials:\n\nCLIENT_ID = 'FZF2SWDMAVWXMFYAXUYYDKCLZYHQX0WESCXZFEU5ZNQ2DLLL' # your Foursquare ID\nCLIENT_SECRET = 'WSRM2GTQKNXLREEGDXDR4ZWE4LNVILAKOPPVRPVY5H2OL3AO' # your Foursquare Secret\nVERSION = '20180604'\nLIMIT = 30\n\nprint('Your credentails:')\nprint('CLIENT_ID: ' + CLIENT_ID)\nprint('CLIENT_SECRET:' + CLIENT_SECRET)\n\n\n#Let's define the user agent:\n\naddress = 'Copenhagen, Denmark'\n\ngeolocator = Nominatim(user_agent=\"foursquare_agent\")\nlocation = geolocator.geocode(address)\nlatitude = location.latitude\nlongitude = location.longitude\nprint(latitude, longitude)\n\n\n# Let's define the search based on location\n\nsearch_query = 'Fitness'\n\nradius = 70000\nprint(search_query + ' .... OK!')\n\n\n# Let's print the url to fetch the venues\nurl = 'https://api.foursquare.com/v2/venues/search?client_id={}&client_secret={}&ll={},{}&v={}&query={}&radius={}&limit={}'.format(CLIENT_ID, CLIENT_SECRET, latitude, longitude, VERSION, search_query, radius, LIMIT)\n\n# Let's make a request and print the results:\n\nresults = requests.get(url).json()\n"
        },
        {
            "cell_type": "markdown",
            "metadata": {},
            "source": "## 3. Analyze Data\n\nAnalyze Data\n\n#### Clear the Data and Transform it in a Dataframe:"
        },
        {
            "cell_type": "code",
            "execution_count": null,
            "metadata": {},
            "outputs": [],
            "source": "# assign relevant part of JSON to venues\nvenues = results['response']['venues']\n\n# tranform venues into a dataframe\ndataframe = json_normalize(venues)\ndataframe.shape\n\n\n\n# keep only columns that include venue name, and anything that is associated with location\nfiltered_columns = ['name', 'categories'] + [col for col in dataframe.columns if col.startswith('location.')] + ['id']\ndataframe_filtered = dataframe.loc[:, filtered_columns]\n\n# function that extracts the category of the venue\ndef get_category_type(row):\n    try:\n        categories_list = row['categories']\n    except:\n        categories_list = row['venue.categories']\n        \n    if len(categories_list) == 0:\n        return None\n    else:\n        return categories_list[0]['name']\n\ndataframe_filtered\n    \n# filter the category for each row\ndataframe_filtered['categories'] = dataframe_filtered.apply(get_category_type, axis=1)\n\n# clean column names by keeping only last term\ndataframe_filtered.columns = [column.split('.')[-1] for column in dataframe_filtered.columns]\n\n"
        },
        {
            "cell_type": "code",
            "execution_count": null,
            "metadata": {},
            "outputs": [],
            "source": "#Let's see the list of gyms:\n\ndataframe_filtered"
        },
        {
            "cell_type": "markdown",
            "metadata": {},
            "source": "## 4. Visualize Data\n"
        },
        {
            "cell_type": "code",
            "execution_count": null,
            "metadata": {},
            "outputs": [],
            "source": "# Plotting the Gym addresses on the Map"
        },
        {
            "cell_type": "code",
            "execution_count": null,
            "metadata": {},
            "outputs": [],
            "source": "# Let's see the gyms on a map:\n!conda install -c conda-forge folium=0.5.0 --yes\nimport folium # plotting library\n!conda install -c conda-forge geopy --yes \nfrom geopy.geocoders import Nominatim # module to convert an address into latitude and longitude values\n\n\n\nprint('Folium installed')\n\n\nvenues_map = folium.Map(location=[latitude, longitude], zoom_start=13) # generate map centred around the Conrad Hotel\n\n# add a red circle marker to represent the Conrad Hotel\nfolium.features.CircleMarker(\n    [latitude, longitude],\n    radius=30,\n    color='red',\n    popup='Copenhagen',\n    fill = True,\n    fill_color = 'red',\n    fill_opacity = 0.6\n).add_to(venues_map)\n\n# add the Italian restaurants as blue circle markers\nfor lat, lng, label in zip(dataframe_filtered.lat, dataframe_filtered.lng, dataframe_filtered.categories):\n    folium.features.CircleMarker(\n        [lat, lng],\n        radius=50,\n        color='blue',\n        popup=label,\n        fill = True,\n        fill_color='blue',\n        fill_opacity=0.1\n    ).add_to(venues_map)\n\n# display map\nvenues_map"
        },
        {
            "cell_type": "markdown",
            "metadata": {},
            "source": "## 5. Examine Clusters\n\nExamine Clusters"
        },
        {
            "cell_type": "markdown",
            "metadata": {},
            "source": "## 6. Conclusions\n\nConclusions"
        },
        {
            "cell_type": "code",
            "execution_count": null,
            "metadata": {},
            "outputs": [],
            "source": ""
        },
        {
            "cell_type": "code",
            "execution_count": null,
            "metadata": {},
            "outputs": [],
            "source": ""
        }
    ],
    "metadata": {
        "kernelspec": {
            "display_name": "Python 3.6",
            "language": "python",
            "name": "python3"
        },
        "language_info": {
            "codemirror_mode": {
                "name": "ipython",
                "version": 3
            },
            "file_extension": ".py",
            "mimetype": "text/x-python",
            "name": "python",
            "nbconvert_exporter": "python",
            "pygments_lexer": "ipython3",
            "version": "3.6.9"
        }
    },
    "nbformat": 4,
    "nbformat_minor": 1
}