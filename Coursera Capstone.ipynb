{
    "cells": [
        {
            "metadata": {},
            "cell_type": "markdown",
            "source": "## Table of Contents\n\n<div>\n        <a href=\"#item1\">1. Business Statement</a>\n        <br>\n        <a href=\"##item2\">2. Data Source</a>\n        <br>\n        <a href=\"#item3\">3. Analyze Data</a>\n        <br>\n        <a href=\"#item4\">4. Visualise Data</a>\n        <br>\n        <a href=\"#item5\">5. Examine Clusters</a>    \n        <br>\n        <a href=\"#item5\">6. Conclusions</a>    \n        <br>\n    </ol>\n</div>"
        },
        {
            "metadata": {},
            "cell_type": "markdown",
            "source": "## 1. Business Statement\n\nA new fitness chain would like to expand in Denmark. Opening the first Gym is going to give the stakeholder an idea on how profitable is their business model and how it will be received might dictate future plans for expansion on the Danish Market.\n\nData Analysis should be used to find the best location considering a few criteria:\n\nProximity to high traffic areas\nA certain distance to existing fitness centers.\nA location with lower density of Gym facilities.\n\n\n"
        },
        {
            "metadata": {},
            "cell_type": "markdown",
            "source": "## 2. Data Source\n\nThe main Data Source will be Foursquare API for identifying existing gym and mapping them over the Central Copenhagen zip codes.\nData from Denmark Statistics Institute will be used to identify higher density areas and popular venues.\nPeople are more likely to choose a gym close to a Shopping Center then in a remote area so this should be factored into account.\n\nBy knowing existing Gym and their area of coverage, by applying unsupervised learning techniques it will be determined the optimum location for opening a new fitness center."
        },
        {
            "metadata": {},
            "cell_type": "markdown",
            "source": "Using Foursquare let's fetch "
        },
        {
            "metadata": {},
            "cell_type": "code",
            "source": "### A. Let's import the Fitness Gyms that are registered for Copenhagen from Foursquare.\n\n\nimport requests # library to handle requests\nimport pandas as pd # library for data analsysis\nimport numpy as np # library to handle data in a vectorized manner\nimport random # library for random number generation\n\n!conda install -c conda-forge geopy --yes \nfrom geopy.geocoders import Nominatim # module to convert an address into latitude and longitude values\n\n# libraries for displaying images\nfrom IPython.display import Image \nfrom IPython.core.display import HTML \n    \n# tranforming json file into a pandas dataframe library\nfrom pandas.io.json import json_normalize\nfrom pandas.io.json import json_normalize\n\n!conda install -c conda-forge folium=0.5.0 --yes\nimport folium # plotting library\n\nprint('Folium installed')\nprint('Libraries imported.')\n",
            "execution_count": null,
            "outputs": [
                {
                    "output_type": "stream",
                    "text": "Solving environment: \\ ",
                    "name": "stdout"
                }
            ]
        },
        {
            "metadata": {},
            "cell_type": "code",
            "source": "## Adding Foursquare Credentials:\n\nCLIENT_ID = 'FZF2SWDMAVWXMFYAXUYYDKCLZYHQX0WESCXZFEU5ZNQ2DLLL' # your Foursquare ID\nCLIENT_SECRET = 'WSRM2GTQKNXLREEGDXDR4ZWE4LNVILAKOPPVRPVY5H2OL3AO' # your Foursquare Secret\nVERSION = '20180604'\nLIMIT = 30\n\nprint('Your credentails:')\nprint('CLIENT_ID: ' + CLIENT_ID)\nprint('CLIENT_SECRET:' + CLIENT_SECRET)\n\n\n#Let's define the user agent:\n\naddress = 'Copenhagen, Denmark'\n\ngeolocator = Nominatim(user_agent=\"foursquare_agent\")\nlocation = geolocator.geocode(address)\nlatitude = location.latitude\nlongitude = location.longitude\nprint(latitude, longitude)\n\n\n# Let's define the search based on location\n\nsearch_query = 'Fitness Gym'\nsearch_query2 = 'Fitness Center'\n\nradius = 70000\nprint(search_query + ' .... OK!')\n\n\n# Let's print the url to fetch the venues\nurl = 'https://api.foursquare.com/v2/venues/search?client_id={}&client_secret={}&ll={},{}&v={}&query={}&radius={}&limit={}'.format(CLIENT_ID, CLIENT_SECRET, latitude, longitude, VERSION, search_query, radius, LIMIT)\n\n# Let's make a request and print the results:\n\nresults = requests.get(url).json()\n",
            "execution_count": 22,
            "outputs": [
                {
                    "output_type": "stream",
                    "text": "Your credentails:\nCLIENT_ID: FZF2SWDMAVWXMFYAXUYYDKCLZYHQX0WESCXZFEU5ZNQ2DLLL\nCLIENT_SECRET:WSRM2GTQKNXLREEGDXDR4ZWE4LNVILAKOPPVRPVY5H2OL3AO\n55.6867243 12.5700724\nFitness Gym .... OK!\n",
                    "name": "stdout"
                }
            ]
        },
        {
            "metadata": {},
            "cell_type": "markdown",
            "source": "## 3. Analyze Data\n\nAnalyze Data\n\n#### Clear the Data and Transform it in a Dataframe:"
        },
        {
            "metadata": {},
            "cell_type": "code",
            "source": "# assign relevant part of JSON to venues\nvenues = results['response']['venues']\n\n# tranform venues into a dataframe\ndataframe = json_normalize(venues)\ndataframe.shape\n\n\n\n# keep only columns that include venue name, and anything that is associated with location\nfiltered_columns = ['name', 'categories'] + [col for col in dataframe.columns if col.startswith('location.')] + ['id']\ndataframe_filtered = dataframe.loc[:, filtered_columns]\n\n# function that extracts the category of the venue\ndef get_category_type(row):\n    try:\n        categories_list = row['categories']\n    except:\n        categories_list = row['venue.categories']\n        \n    if len(categories_list) == 0:\n        return None\n    else:\n        return categories_list[0]['name']\n\ndataframe_filtered\n    \n# filter the category for each row\ndataframe_filtered['categories'] = dataframe_filtered.apply(get_category_type, axis=1)\n\n# clean column names by keeping only last term\ndataframe_filtered.columns = [column.split('.')[-1] for column in dataframe_filtered.columns]\n\n\nprint('Dataframe Shape: ' + dataframe_filtered.shape)",
            "execution_count": 25,
            "outputs": [
                {
                    "output_type": "error",
                    "ename": "AttributeError",
                    "evalue": "module 'pandas' has no attribute 'json_normalize'",
                    "traceback": [
                        "\u001b[0;31m---------------------------------------------------------------------------\u001b[0m",
                        "\u001b[0;31mAttributeError\u001b[0m                            Traceback (most recent call last)",
                        "\u001b[0;32m<ipython-input-25-58cb738c8d0a>\u001b[0m in \u001b[0;36m<module>\u001b[0;34m\u001b[0m\n\u001b[1;32m      3\u001b[0m \u001b[0;34m\u001b[0m\u001b[0m\n\u001b[1;32m      4\u001b[0m \u001b[0;31m# tranform venues into a dataframe\u001b[0m\u001b[0;34m\u001b[0m\u001b[0;34m\u001b[0m\u001b[0;34m\u001b[0m\u001b[0m\n\u001b[0;32m----> 5\u001b[0;31m \u001b[0mdataframe\u001b[0m \u001b[0;34m=\u001b[0m \u001b[0mpd\u001b[0m\u001b[0;34m.\u001b[0m\u001b[0mjson_normalize\u001b[0m\u001b[0;34m(\u001b[0m\u001b[0mvenues\u001b[0m\u001b[0;34m)\u001b[0m\u001b[0;34m\u001b[0m\u001b[0;34m\u001b[0m\u001b[0m\n\u001b[0m\u001b[1;32m      6\u001b[0m \u001b[0mdataframe\u001b[0m\u001b[0;34m.\u001b[0m\u001b[0mshape\u001b[0m\u001b[0;34m\u001b[0m\u001b[0;34m\u001b[0m\u001b[0m\n\u001b[1;32m      7\u001b[0m \u001b[0;34m\u001b[0m\u001b[0m\n",
                        "\u001b[0;31mAttributeError\u001b[0m: module 'pandas' has no attribute 'json_normalize'"
                    ]
                }
            ]
        },
        {
            "metadata": {},
            "cell_type": "code",
            "source": "#Let's see the list of gyms:\n\ndataframe_filtered",
            "execution_count": 8,
            "outputs": [
                {
                    "output_type": "error",
                    "ename": "NameError",
                    "evalue": "name 'dataframe_filtered' is not defined",
                    "traceback": [
                        "\u001b[0;31m---------------------------------------------------------------------------\u001b[0m",
                        "\u001b[0;31mNameError\u001b[0m                                 Traceback (most recent call last)",
                        "\u001b[0;32m<ipython-input-8-ccdd7dea5d97>\u001b[0m in \u001b[0;36m<module>\u001b[0;34m\u001b[0m\n\u001b[1;32m      1\u001b[0m \u001b[0;31m#Let's see the list of gyms:\u001b[0m\u001b[0;34m\u001b[0m\u001b[0;34m\u001b[0m\u001b[0;34m\u001b[0m\u001b[0m\n\u001b[1;32m      2\u001b[0m \u001b[0;34m\u001b[0m\u001b[0m\n\u001b[0;32m----> 3\u001b[0;31m \u001b[0mdataframe_filtered\u001b[0m\u001b[0;34m\u001b[0m\u001b[0;34m\u001b[0m\u001b[0m\n\u001b[0m",
                        "\u001b[0;31mNameError\u001b[0m: name 'dataframe_filtered' is not defined"
                    ]
                }
            ]
        },
        {
            "metadata": {},
            "cell_type": "markdown",
            "source": "## 4. Visualize Data\n"
        },
        {
            "metadata": {},
            "cell_type": "code",
            "source": "#",
            "execution_count": null,
            "outputs": []
        },
        {
            "metadata": {},
            "cell_type": "code",
            "source": "# Let's see the gyms on a map:\n\nvenues_map = folium.Map(location=[latitude, longitude], zoom_start=13) # generate map centred around the Conrad Hotel\n\n# add a red circle marker to represent the Conrad Hotel\nfolium.features.CircleMarker(\n    [latitude, longitude],\n    radius=30,\n    color='red',\n    popup='Copenhagen',\n    fill = True,\n    fill_color = 'red',\n    fill_opacity = 0.6\n).add_to(venues_map)\n\n# add the Italian restaurants as blue circle markers\nfor lat, lng, label in zip(dataframe_filtered.lat, dataframe_filtered.lng, dataframe_filtered.categories):\n    folium.features.CircleMarker(\n        [lat, lng],\n        radius=50,\n        color='blue',\n        popup=label,\n        fill = True,\n        fill_color='blue',\n        fill_opacity=0.1\n    ).add_to(venues_map)\n\n# display map\nvenues_map",
            "execution_count": null,
            "outputs": []
        },
        {
            "metadata": {},
            "cell_type": "markdown",
            "source": "## 5. Examine Clusters\n\nExamine Clusters"
        },
        {
            "metadata": {},
            "cell_type": "markdown",
            "source": "## 6. Conclusions\n\nConclusions"
        },
        {
            "metadata": {},
            "cell_type": "code",
            "source": "",
            "execution_count": null,
            "outputs": []
        }
    ],
    "metadata": {
        "kernelspec": {
            "name": "python3",
            "display_name": "Python 3.6",
            "language": "python"
        },
        "language_info": {
            "name": "python",
            "version": "3.6.9",
            "mimetype": "text/x-python",
            "codemirror_mode": {
                "name": "ipython",
                "version": 3
            },
            "pygments_lexer": "ipython3",
            "nbconvert_exporter": "python",
            "file_extension": ".py"
        }
    },
    "nbformat": 4,
    "nbformat_minor": 1
}